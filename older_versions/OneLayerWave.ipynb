{
 "cells": [
  {
   "cell_type": "code",
   "execution_count": 8,
   "metadata": {},
   "outputs": [],
   "source": [
    "import numpy as np\n",
    "import matplotlib.pyplot as plt\n",
    "import math\n",
    "from scipy.spatial.distance import pdist, squareform\n",
    "from scipy.sparse import csr_matrix\n",
    "from IPython.display import clear_output\n",
    "#%matplotlib inline"
   ]
  },
  {
   "cell_type": "markdown",
   "metadata": {},
   "source": [
    "### Time Loop\n",
    "\n",
    "Here is the most important part of the model. For each time step, we do the following:\n",
    "The following steps are the only ones that apply if we have a one layer system\n",
    "1. Set noise for the retina $\\boldsymbol{S}^x\\boldsymbol{x}$ term as an input signal(`Ret[\"eta\"]`)\n",
    "2. Calculate retina $\\boldsymbol{S}H = $  `Ret[\"u\"]` term (solving wave dynamical system)\n",
    "3. Update retina voltage and threshold according to modified LIF neuron rules\n",
    "4. Determine which retina neurons are above their threshold and therefore fire\n",
    "5. Reset the voltage of the retina neurons that fire\n",
    "6. Set `H` for firing neurons"
   ]
  },
  {
   "cell_type": "code",
   "execution_count": 9,
   "metadata": {},
   "outputs": [],
   "source": [
    "# System Constants and Parameters\n",
    "nR = 1600     # Neurons in Retina\n",
    "sqR = 20\n"
   ]
  },
  {
   "cell_type": "code",
   "execution_count": 10,
   "metadata": {},
   "outputs": [],
   "source": [
    "def adjacency(D, ai, ao, ri, ro):\n",
    "    \"\"\"Calculate intra-layer adjacency matrix encoding the spatial connectivity \n",
    "    of neurons within the layer.\n",
    "\n",
    "    Parameters\n",
    "    ----------\n",
    "    D  : distance matrix\n",
    "    ai : inhibition amplitude factor\n",
    "    a0 : excittation amplitude factor\n",
    "    ri : float\n",
    "        Excitation radius\n",
    "    ro : float\n",
    "        Inhibition radius\n",
    "    \"\"\"\n",
    "    \n",
    "    S = ai * (D < ri) - (ao * (D > ro) *  np.exp(-D/10))  \n",
    "    S = S - np.diag(np.diag(S)) \n",
    "\n",
    "    return S"
   ]
  },
  {
   "cell_type": "code",
   "execution_count": null,
   "metadata": {},
   "outputs": [],
   "source": []
  },
  {
   "cell_type": "code",
   "execution_count": 11,
   "metadata": {},
   "outputs": [],
   "source": [
    "# Retina \n",
    "\n",
    "Ret = {\n",
    "    \"th\" : np.ones((nR, 1)), # variable retina threshold (theta)\n",
    "    \"b\" : np.zeros((nR, 1)),\n",
    "    \"v_reset\" : .1 * np.random.randn(nR, 1)**2,\n",
    "    \"nx\" : sqR * np.random.randn(nR, 2),\n",
    "    \"ri\" : 2, # inner radius\n",
    "    \"ro\" : 5, # outer radius\n",
    "    \"u\" : np.zeros((nR,1)),  # I.C. of v, u\n",
    "    \"v\" :  np.zeros((nR, 1)),\n",
    "    \"H\" : np.zeros((nR, 1)) # OG has sparse, see if this will be an issue TODO\n",
    "    # \"H\" :  sparse(np.zeros((nR,1))) find sparse version in numpy\n",
    "\n",
    "}\n",
    "Ret[\"D\"] = squareform(pdist(Ret[\"nx\"])) # distance\n",
    "Ret[\"S\"] = adjacency(Ret[\"D\"], 16, 3, Ret[\"ri\"], Ret[\"ro\"]) # adjacency matrix \n",
    "\n",
    "Tend = 300; dt = 0.1; t_intrvls = np.arange(0,Tend + 1) # (301,) shape\n",
    "\n",
    "fnoise = 3*np.random.randn(nR,len(t_intrvls)); # Pre-generate noise\n",
    "# fnoiseI?\n",
    "\n",
    "\n",
    "Xu = np.zeros((nR,t_intrvls[-1])); Xu[:,0] = Ret[\"u\"].reshape(nR,) # Snapshot matrix u\n",
    "Xv = np.zeros((nR,t_intrvls[-1])); Xv[:,0] = Ret[\"v\"].reshape(nR,) # Snapshot matrix v\n",
    "Xth = np.zeros((nR,t_intrvls[-1])); Xth[:,0] = Ret[\"th\"].reshape(nR,)\n",
    "\n",
    "tau_v = 2; tau_u = 0.3;\n",
    "tau_th = 60; th_plus = 9; v_th = 1;\n",
    "\n",
    "firedMat = {} # cell(1,length(t_intrvls)); \n"
   ]
  },
  {
   "cell_type": "code",
   "execution_count": 13,
   "metadata": {},
   "outputs": [],
   "source": [
    "for tt in np.arange(0, Tend, dt):\n",
    "\n",
    "    if tt < 299:\n",
    "        #Ret[\"eta\"] = fnoise[:,int(np.round(tt)+1)].reshape(1600,1) # TODO: rounding\n",
    "        Ret[\"eta\"] = 3 * np.random.randn(1600,1)\n",
    "        #Ret[\"eta\"] = 10 * np.random.randn(1600,1)\n",
    "\n",
    "            \n",
    "        \n",
    "    # Solve Wave Dynamical System in Retina\n",
    "    Ret[\"u\"] = np.matmul(Ret[\"S\"],Ret[\"H\"]) # TODO: fix ret.H --> 1600 x 1 of zeros\n",
    "    \n",
    "    ## voltage and threshold update rules\n",
    "    #Ret[\"v\"] = Ret[\"v\"] + dt * (1/tau_v * (-Ret[\"v\"] + Ret[\"u\"] + Ret[\"b\"] + Ret[\"eta\"]))\n",
    "    Ret[\"v\"] = Ret[\"v\"] + dt * -1/tau_v * Ret[\"v\"] + Ret[\"u\"] + Ret[\"b\"] + Ret[\"eta\"] # incorrect\n",
    "\n",
    "    Ret[\"th\"] = Ret[\"th\"] +  dt * (1/tau_th * (v_th - Ret[\"th\"]) * (1-Ret[\"H\"]) + th_plus * Ret[\"H\"]) \n",
    "                               \n",
    "    # Discontinuous update rule\n",
    "    fired = np.argwhere(Ret[\"v\"] >= Ret[\"th\"])[:,0] # get only row indices (#rows, ) shape\n",
    "    Ret[\"v\"][fired] = Ret[\"v_reset\"][fired] # replacing voltages of fired neurons with reset voltage\n",
    "    Ret[\"H\"] = np.zeros((nR, 1)) \n",
    "    Ret[\"H\"][fired,] = np.ones((len(fired),1)) # 1s where the neurons fire in H #TODOL make sparse\n",
    "    if np.mod(tt, 1) == 0 and tt != 299:\n",
    "        \n",
    "        tt = int(tt)\n",
    "        Xv[:,tt+1] = Ret[\"v\"].reshape(1600,);\n",
    "        Xu[:,tt+1] = Ret[\"u\"].reshape(1600,)\n",
    "        Xth[:,tt+1] = Ret[\"th\"].reshape(1600,);\n",
    "\n",
    "        firedMat[tt+1] = fired; \n",
    "        "
   ]
  },
  {
   "cell_type": "markdown",
   "metadata": {},
   "source": [
    "bad news: wave happens when the voltage update rule is \"wrong\". good news: works for noise when u make it new each time or when you take it from fnoise (so its same noise for like 5 time steps, even tho to us we are only plotting every second)"
   ]
  },
  {
   "cell_type": "code",
   "execution_count": 14,
   "metadata": {},
   "outputs": [
    {
     "data": {
      "image/png": "[encoded data removed]",
      "text/plain": [
       "<Figure size 1440x360 with 1 Axes>"
      ]
     },
     "metadata": {
      "needs_background": "light"
     },
     "output_type": "display_data"
    }
   ],
   "source": [
    "# Visualization of Wave\n",
    "for ii in range(1, 300):\n",
    "    f = plt.figure(figsize=(20,5))\n",
    "\n",
    "    ax1 = f.add_subplot(131)\n",
    "    ax1.title.set_text('Ret-Wave t = ' + str(ii))\n",
    "    ax1.scatter(Ret['nx'][:,1],Ret['nx'][:,0], color = 'k')\n",
    "    ax1.scatter(Ret['nx'][firedMat[ii],1],Ret['nx'][firedMat[ii],0], color = 'r')\n",
    "    plt.show()\n",
    "    clear_output(wait=True)"
   ]
  },
  {
   "cell_type": "code",
   "execution_count": null,
   "metadata": {},
   "outputs": [],
   "source": [
    "Ret[\"v\"].shape"
   ]
  },
  {
   "cell_type": "code",
   "execution_count": null,
   "metadata": {},
   "outputs": [],
   "source": [
    "len(X_eta[1])"
   ]
  },
  {
   "cell_type": "code",
   "execution_count": null,
   "metadata": {},
   "outputs": [],
   "source": [
    "len(X_eta)"
   ]
  },
  {
   "cell_type": "code",
   "execution_count": null,
   "metadata": {},
   "outputs": [],
   "source": [
    "plt.plot(range(len(X_eta[1])), X_eta[4])"
   ]
  },
  {
   "cell_type": "code",
   "execution_count": null,
   "metadata": {},
   "outputs": [],
   "source": [
    "for tt in np.arange(0, Tend, dt):\n",
    "\n",
    "    print (np.round(tt)+1)"
   ]
  },
  {
   "cell_type": "code",
   "execution_count": null,
   "metadata": {},
   "outputs": [],
   "source": []
  }
 ],
 "metadata": {
  "kernelspec": {
   "display_name": "Python 3",
   "language": "python",
   "name": "python3"
  },
  "language_info": {
   "codemirror_mode": {
    "name": "ipython",
    "version": 3
   },
   "file_extension": ".py",
   "mimetype": "text/x-python",
   "name": "python",
   "nbconvert_exporter": "python",
   "pygments_lexer": "ipython3",
   "version": "3.7.4"
  }
 },
 "nbformat": 4,
 "nbformat_minor": 4
}
